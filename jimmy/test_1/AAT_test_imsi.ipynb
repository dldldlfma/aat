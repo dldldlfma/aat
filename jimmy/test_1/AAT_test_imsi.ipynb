{
 "cells": [
  {
   "cell_type": "code",
   "execution_count": 8,
   "metadata": {},
   "outputs": [],
   "source": [
    "from pprint import pprint"
   ]
  },
  {
   "cell_type": "code",
   "execution_count": 9,
   "metadata": {},
   "outputs": [],
   "source": [
    "\n",
    "# Port Generator\n",
    "def gen_port (name, dir, msb, lsb):\n",
    "    tmp = {}\n",
    "    tmp['name'] = name\n",
    "    tmp['dir'] = dir\n",
    "    tmp['msb'] = msb\n",
    "    tmp['lsb'] = lsb\n",
    "    return tmp\n",
    "\n",
    "# Module Generator\n",
    "\n",
    "def gen_module (modname, filename, port_list):\n",
    "    tmp = {}\n",
    "    tmp['modname'] = modname\n",
    "    tmp['filename'] = filename\n",
    "    tmp['ports'] = port_list\n",
    "    return tmp\n",
    "\n",
    "# Top\n",
    "def insert_top (json_top, dic_module):\n",
    "    json_top['top'] = dic_module\n",
    "    return json_top\n",
    "\n",
    "def insert_inst (json_top, dic_module, instname):\n",
    "    if ('insts' in json_top)==False:\n",
    "        json_top['insts'] = []\n",
    "    dic_module['instname'] = instname\n",
    "    json_top['insts'].append(dic_module)\n",
    "    return json_top\n",
    "\n",
    "    "
   ]
  },
  {
   "cell_type": "code",
   "execution_count": 10,
   "metadata": {},
   "outputs": [],
   "source": [
    "# master port\n",
    "tmp = {}\n",
    "port_list = []\n",
    "port_list.append(gen_port('A', 'output', 0, 0))\n",
    "port_list.append(gen_port('B', 'input', 0, 0))\n",
    "port_list.append(gen_port('C', 'input', 0, 0))\n",
    "port_list.append(gen_port('D', 'output', 0, 0))\n",
    "port_list.append(gen_port('E', 'input', 0, 0))"
   ]
  },
  {
   "cell_type": "code",
   "execution_count": 11,
   "metadata": {},
   "outputs": [
    {
     "data": {
      "text/plain": [
       "{'modname': 'master',\n",
       " 'filename': 'master.v',\n",
       " 'ports': [{'name': 'A', 'dir': 'output', 'msb': 0, 'lsb': 0},\n",
       "  {'name': 'B', 'dir': 'input', 'msb': 0, 'lsb': 0},\n",
       "  {'name': 'C', 'dir': 'input', 'msb': 0, 'lsb': 0},\n",
       "  {'name': 'D', 'dir': 'output', 'msb': 0, 'lsb': 0},\n",
       "  {'name': 'E', 'dir': 'input', 'msb': 0, 'lsb': 0}]}"
      ]
     },
     "execution_count": 11,
     "metadata": {},
     "output_type": "execute_result"
    }
   ],
   "source": [
    "# master module\n",
    "dic_mst = gen_module ('master', 'master.v', port_list)\n",
    "dic_mst"
   ]
  },
  {
   "cell_type": "code",
   "execution_count": 12,
   "metadata": {},
   "outputs": [],
   "source": [
    "# slave port\n",
    "tmp = {}\n",
    "port_list = []\n",
    "port_list.append(gen_port('M', 'input', 0, 0))\n",
    "port_list.append(gen_port('N', 'input', 0, 0))\n",
    "port_list.append(gen_port('O', 'output', 0, 0))\n",
    "port_list.append(gen_port('P', 'input', 0, 0))\n",
    "port_list.append(gen_port('Q', 'input', 0, 0))"
   ]
  },
  {
   "cell_type": "code",
   "execution_count": 13,
   "metadata": {},
   "outputs": [
    {
     "data": {
      "text/plain": [
       "{'modname': 'slave',\n",
       " 'filename': 'slave.v',\n",
       " 'ports': [{'name': 'M', 'dir': 'input', 'msb': 0, 'lsb': 0},\n",
       "  {'name': 'N', 'dir': 'input', 'msb': 0, 'lsb': 0},\n",
       "  {'name': 'O', 'dir': 'output', 'msb': 0, 'lsb': 0},\n",
       "  {'name': 'P', 'dir': 'input', 'msb': 0, 'lsb': 0},\n",
       "  {'name': 'Q', 'dir': 'input', 'msb': 0, 'lsb': 0}]}"
      ]
     },
     "execution_count": 13,
     "metadata": {},
     "output_type": "execute_result"
    }
   ],
   "source": [
    "# slave module\n",
    "dic_slv = gen_module ('slave', 'slave.v', port_list)\n",
    "dic_slv"
   ]
  },
  {
   "cell_type": "code",
   "execution_count": 14,
   "metadata": {},
   "outputs": [],
   "source": [
    "# top port\n",
    "tmp = {}\n",
    "port_list = []\n",
    "port_list.append(gen_port('top_out', 'output', 0, 0))\n",
    "port_list.append(gen_port('top_in', 'input', 0, 0))"
   ]
  },
  {
   "cell_type": "code",
   "execution_count": 15,
   "metadata": {},
   "outputs": [
    {
     "data": {
      "text/plain": [
       "{'modname': 'top',\n",
       " 'filename': 'top.v',\n",
       " 'ports': [{'name': 'top_out', 'dir': 'output', 'msb': 0, 'lsb': 0},\n",
       "  {'name': 'top_in', 'dir': 'input', 'msb': 0, 'lsb': 0}]}"
      ]
     },
     "execution_count": 15,
     "metadata": {},
     "output_type": "execute_result"
    }
   ],
   "source": [
    "# top module\n",
    "dic_top = gen_module ('top', 'top.v', port_list)\n",
    "dic_top"
   ]
  },
  {
   "cell_type": "code",
   "execution_count": 16,
   "metadata": {},
   "outputs": [],
   "source": [
    "dic_result = {}\n",
    "dic_result = insert_top(dic_result, dic_top)\n",
    "dic_result = insert_inst(dic_result, dic_mst, 'u_mst')\n",
    "dic_result = insert_inst(dic_result, dic_slv, 'u_slv')"
   ]
  },
  {
   "cell_type": "code",
   "execution_count": 17,
   "metadata": {},
   "outputs": [
    {
     "name": "stdout",
     "output_type": "stream",
     "text": [
      "{'insts': [{'filename': 'master.v',\n",
      "            'instname': 'u_mst',\n",
      "            'modname': 'master',\n",
      "            'ports': [{'dir': 'output', 'lsb': 0, 'msb': 0, 'name': 'A'},\n",
      "                      {'dir': 'input', 'lsb': 0, 'msb': 0, 'name': 'B'},\n",
      "                      {'dir': 'input', 'lsb': 0, 'msb': 0, 'name': 'C'},\n",
      "                      {'dir': 'output', 'lsb': 0, 'msb': 0, 'name': 'D'},\n",
      "                      {'dir': 'input', 'lsb': 0, 'msb': 0, 'name': 'E'}]},\n",
      "           {'filename': 'slave.v',\n",
      "            'instname': 'u_slv',\n",
      "            'modname': 'slave',\n",
      "            'ports': [{'dir': 'input', 'lsb': 0, 'msb': 0, 'name': 'M'},\n",
      "                      {'dir': 'input', 'lsb': 0, 'msb': 0, 'name': 'N'},\n",
      "                      {'dir': 'output', 'lsb': 0, 'msb': 0, 'name': 'O'},\n",
      "                      {'dir': 'input', 'lsb': 0, 'msb': 0, 'name': 'P'},\n",
      "                      {'dir': 'input', 'lsb': 0, 'msb': 0, 'name': 'Q'}]}],\n",
      " 'top': {'filename': 'top.v',\n",
      "         'modname': 'top',\n",
      "         'ports': [{'dir': 'output', 'lsb': 0, 'msb': 0, 'name': 'top_out'},\n",
      "                   {'dir': 'input', 'lsb': 0, 'msb': 0, 'name': 'top_in'}]}}\n"
     ]
    }
   ],
   "source": [
    "pprint (dic_result)"
   ]
  },
  {
   "cell_type": "code",
   "execution_count": 26,
   "metadata": {},
   "outputs": [],
   "source": [
    "# make connection format\n",
    "# Top JASON Format 을 읽어서 Port Dictionary를 만든다.\n",
    "\n",
    "\n",
    "# inst.port[] - inst.port[] 를 connection format 으로 생성한다.\n",
    "# {inst_name : {port_name : {\n",
    "#                   type:\n",
    "#                   dir: \n",
    "#                   msb :\n",
    "#                   lsb : \n",
    "#                   wire : \n",
    "# }}}\n",
    "\n",
    "SYS_CON = {}\n",
    "\n",
    "for inst in dic_result['insts']:\n",
    "    #print (inst)\n",
    "    tmp_port = {}\n",
    "    for port in inst['ports']:\n",
    "        tmp = {}\n",
    "        tmp['cnt_con'] = 0\n",
    "        tmp['type'] = ''\n",
    "        tmp['dir']  = port['dir']\n",
    "        tmp['msb']  = port['msb']\n",
    "        tmp['lsb']  = port['lsb']\n",
    "        tmp['wire'] = ''\n",
    "        tmp_port[port['name']] = tmp\n",
    "    SYS_CON[inst['instname']] = tmp_port\n",
    "        \n",
    "#pprint (SYS_CON)"
   ]
  },
  {
   "cell_type": "code",
   "execution_count": 75,
   "metadata": {},
   "outputs": [],
   "source": [
    "def con_insert(dic_con, port_mst, port_slv):\n",
    "    mst_inst, mst_port = port_mst.strip().split('.')\n",
    "    slv_inst, slv_port = port_slv.strip().split('.')\n",
    "    # config master port\n",
    "    dic_con[mst_inst][mst_port]['type'] = 'mst'\n",
    "    dic_con[slv_inst][slv_port]['type'] = 'slv'\n",
    "    \n",
    "    if dic_con[mst_inst][mst_port]['dir']=='output':\n",
    "        if dic_con[slv_inst][slv_port]['dir']=='input':\n",
    "            continue\n",
    "        elif dic_con[slv_inst][slv_port]['dir']=='output':\n",
    "            \n",
    "    \n",
    "    if dic_con[mst_inst][mst_port]['wire']=='':\n",
    "        if dic_con[slv_inst][slv_port]['wire']=='':\n",
    "            tmp_name = mst_inst+'_'+mst_port\n",
    "        else:\n",
    "            tmp_name = dic_con[slv_inst][slv_port]['wire']\n",
    "    else:\n",
    "        if dic_con[slv_inst][slv_port]['wire']=='':\n",
    "            tmp_name = dic_con[mst_inst][mst_port]['wire']\n",
    "        else:\n",
    "            print ('[LOG] *E, wire name overwrite')\n",
    "    \n",
    "    dic_con[mst_inst][mst_port]['wire'] = tmp_name\n",
    "    dic_con[slv_inst][slv_port]['wire'] = tmp_name  "
   ]
  },
  {
   "cell_type": "code",
   "execution_count": 27,
   "metadata": {},
   "outputs": [
    {
     "ename": "NameError",
     "evalue": "name 'con_insert' is not defined",
     "output_type": "error",
     "traceback": [
      "\u001b[1;31m---------------------------------------------------------------------------\u001b[0m",
      "\u001b[1;31mNameError\u001b[0m                                 Traceback (most recent call last)",
      "\u001b[1;32m<ipython-input-27-0e3d7c86795c>\u001b[0m in \u001b[0;36m<module>\u001b[1;34m\u001b[0m\n\u001b[0;32m      6\u001b[0m \u001b[1;31m#u_mst.E - u_slv.Q\u001b[0m\u001b[1;33m\u001b[0m\u001b[1;33m\u001b[0m\u001b[1;33m\u001b[0m\u001b[0m\n\u001b[0;32m      7\u001b[0m \u001b[1;33m\u001b[0m\u001b[0m\n\u001b[1;32m----> 8\u001b[1;33m \u001b[0mcon_insert\u001b[0m\u001b[1;33m(\u001b[0m\u001b[0mSYS_CON\u001b[0m\u001b[1;33m,\u001b[0m \u001b[1;34m'u_mst.A'\u001b[0m\u001b[1;33m,\u001b[0m \u001b[1;34m'u_slv.M'\u001b[0m\u001b[1;33m)\u001b[0m\u001b[1;33m\u001b[0m\u001b[1;33m\u001b[0m\u001b[0m\n\u001b[0m\u001b[0;32m      9\u001b[0m \u001b[0mcon_insert\u001b[0m\u001b[1;33m(\u001b[0m\u001b[0mSYS_CON\u001b[0m\u001b[1;33m,\u001b[0m \u001b[1;34m'u_mst.A'\u001b[0m\u001b[1;33m,\u001b[0m \u001b[1;34m'u_slv.N'\u001b[0m\u001b[1;33m)\u001b[0m\u001b[1;33m\u001b[0m\u001b[1;33m\u001b[0m\u001b[0m\n\u001b[0;32m     10\u001b[0m \u001b[0mcon_insert\u001b[0m\u001b[1;33m(\u001b[0m\u001b[0mSYS_CON\u001b[0m\u001b[1;33m,\u001b[0m \u001b[1;34m'u_mst.B'\u001b[0m\u001b[1;33m,\u001b[0m \u001b[1;34m'u_slv.O'\u001b[0m\u001b[1;33m)\u001b[0m\u001b[1;33m\u001b[0m\u001b[1;33m\u001b[0m\u001b[0m\n",
      "\u001b[1;31mNameError\u001b[0m: name 'con_insert' is not defined"
     ]
    }
   ],
   "source": [
    "#u_mst.A - u_slv.M\n",
    "#u_mst.A - u_slv.N\n",
    "#u_mst.B - u_slv.O\n",
    "#u_mst.C - u_slv.O\n",
    "#u_mst.D - u_slv.P\n",
    "#u_mst.E - u_slv.Q\n",
    "      \n",
    "con_insert(SYS_CON, 'u_mst.A', 'u_slv.M')\n",
    "con_insert(SYS_CON, 'u_mst.A', 'u_slv.N')\n",
    "con_insert(SYS_CON, 'u_mst.B', 'u_slv.O')\n",
    "con_insert(SYS_CON, 'u_mst.C', 'u_slv.O')\n",
    "con_insert(SYS_CON, 'u_mst.D', 'u_slv.P')\n",
    "con_insert(SYS_CON, 'u_mst.E', 'u_slv.Q')\n",
    "\n",
    "#pprint (SYS_CON)"
   ]
  },
  {
   "cell_type": "code",
   "execution_count": 70,
   "metadata": {},
   "outputs": [
    {
     "name": "stdout",
     "output_type": "stream",
     "text": [
      "wire  [0:0] u_mst_A;\n",
      "wire  [0:0] u_mst_B;\n",
      "wire  [0:0] u_mst_B;\n",
      "wire  [0:0] u_mst_D;\n",
      "wire  [0:0] u_mst_E;\n"
     ]
    }
   ],
   "source": [
    "# Print WIRE NAME\n",
    "\n",
    "for inst in SYS_CON:\n",
    "    for port in SYS_CON[inst]:\n",
    "        if SYS_CON[inst][port]['type']=='mst':\n",
    "            print ('wire  ['+str(SYS_CON[inst][port]['msb'])+':'+str(SYS_CON[inst][port]['lsb'])+'] '+SYS_CON[inst][port]['wire']+';')\n",
    "    \n",
    "\n"
   ]
  },
  {
   "cell_type": "code",
   "execution_count": null,
   "metadata": {},
   "outputs": [],
   "source": []
  },
  {
   "cell_type": "code",
   "execution_count": null,
   "metadata": {},
   "outputs": [],
   "source": []
  },
  {
   "cell_type": "code",
   "execution_count": null,
   "metadata": {},
   "outputs": [],
   "source": []
  },
  {
   "cell_type": "code",
   "execution_count": null,
   "metadata": {},
   "outputs": [],
   "source": []
  },
  {
   "cell_type": "code",
   "execution_count": null,
   "metadata": {},
   "outputs": [],
   "source": []
  },
  {
   "cell_type": "code",
   "execution_count": null,
   "metadata": {},
   "outputs": [],
   "source": []
  },
  {
   "cell_type": "code",
   "execution_count": null,
   "metadata": {},
   "outputs": [],
   "source": []
  },
  {
   "cell_type": "code",
   "execution_count": null,
   "metadata": {},
   "outputs": [],
   "source": []
  }
 ],
 "metadata": {
  "kernelspec": {
   "display_name": "Python 3",
   "language": "python",
   "name": "python3"
  },
  "language_info": {
   "codemirror_mode": {
    "name": "ipython",
    "version": 3
   },
   "file_extension": ".py",
   "mimetype": "text/x-python",
   "name": "python",
   "nbconvert_exporter": "python",
   "pygments_lexer": "ipython3",
   "version": "3.7.6"
  }
 },
 "nbformat": 4,
 "nbformat_minor": 4
}
