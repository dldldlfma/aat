{
 "cells": [
  {
   "cell_type": "markdown",
   "metadata": {},
   "source": [
    "# Code Generator\n",
    "\n",
    "## json을 통해서 verilog code를 생성하는 기능을 구현하고자 합니다. "
   ]
  },
  {
   "cell_type": "markdown",
   "metadata": {},
   "source": [
    "---"
   ]
  },
  {
   "cell_type": "markdown",
   "metadata": {},
   "source": [
    "# protocol gen check"
   ]
  },
  {
   "cell_type": "code",
   "execution_count": 1,
   "metadata": {},
   "outputs": [],
   "source": [
    "import json\n",
    "from pprint import pprint"
   ]
  },
  {
   "cell_type": "code",
   "execution_count": 2,
   "metadata": {},
   "outputs": [],
   "source": [
    "my_p={}\n",
    "with open(\"./protocol/my_protocol.json\") as f:\n",
    "    my_p = json.load(f)"
   ]
  },
  {
   "cell_type": "code",
   "execution_count": 3,
   "metadata": {},
   "outputs": [
    {
     "name": "stdout",
     "output_type": "stream",
     "text": [
      "{'master': [{'direction': 'input', 'name': 'CLK', 'width': 1},\n",
      "            {'direction': 'input', 'name': 'RESETn', 'width': 1},\n",
      "            {'direction': 'output', 'name': 'VALID', 'width': 1},\n",
      "            {'direction': 'input', 'name': 'READY', 'width': 1},\n",
      "            {'direction': 'output', 'name': 'O_DATA', 'width': 32},\n",
      "            {'direction': 'input', 'name': 'I_DATA', 'width': 32}],\n",
      " 'name': 'my_protocol',\n",
      " 'slave': [{'direction': 'input', 'name': 'CLK', 'width': 1},\n",
      "           {'direction': 'input', 'name': 'RESETn', 'width': 1},\n",
      "           {'direction': 'input', 'name': 'VALID', 'width': 1},\n",
      "           {'direction': 'output', 'name': 'READY', 'width': 1},\n",
      "           {'direction': 'output', 'name': 'O_DATA', 'width': 32},\n",
      "           {'direction': 'input', 'name': 'I_DATA', 'width': 32}]}\n"
     ]
    }
   ],
   "source": [
    "pprint(my_p)"
   ]
  },
  {
   "cell_type": "code",
   "execution_count": 4,
   "metadata": {},
   "outputs": [],
   "source": [
    "with open(\"./gen_code.v\",\"w\")as f:\n",
    "    for i in my_p['slave']:\n",
    "        line_code = \"\\t.\"+i['name']+\"\\t\\t(\\t)\\n\"\n",
    "        f.writelines(line_code)   "
   ]
  },
  {
   "cell_type": "markdown",
   "metadata": {},
   "source": [
    "# 코드창에 !를 입력하고 명령어를 넣으면 bash 명령어가 실행 됩니다.\n",
    "\n",
    "### !cat ./gen_code.v 를 통해서 생성된 code를 확인해보겠습니다. "
   ]
  },
  {
   "cell_type": "code",
   "execution_count": 5,
   "metadata": {
    "scrolled": false
   },
   "outputs": [
    {
     "name": "stdout",
     "output_type": "stream",
     "text": [
      "\t.CLK\t\t(\t)\r\n",
      "\t.RESETn\t\t(\t)\r\n",
      "\t.VALID\t\t(\t)\r\n",
      "\t.READY\t\t(\t)\r\n",
      "\t.O_DATA\t\t(\t)\r\n",
      "\t.I_DATA\t\t(\t)\r\n"
     ]
    }
   ],
   "source": [
    "!cat ./gen_code.v"
   ]
  },
  {
   "cell_type": "markdown",
   "metadata": {},
   "source": [
    "## json load\n",
    "\n",
    "json을 부를때는 json자체에 적힌 순서대로 읽어 오기위해서 \n",
    "\n",
    "아래와 같이 **object_pairs_hook=OrderedDict** 옵션을 주어야 합니다.\n",
    "\n",
    "\n",
    "\n",
    "```python\n",
    "json.load(f,object_pairs_hook=OrderedDict)\n",
    "```\n",
    "\n"
   ]
  },
  {
   "cell_type": "code",
   "execution_count": 6,
   "metadata": {},
   "outputs": [],
   "source": [
    "from collections import OrderedDict\n",
    "top_info = {}\n",
    "with open(\"./info/top.json\") as f:\n",
    "    #top_info = json.load(f)\n",
    "    top_info = json.load(f,object_pairs_hook=OrderedDict)"
   ]
  },
  {
   "cell_type": "code",
   "execution_count": 7,
   "metadata": {
    "scrolled": true
   },
   "outputs": [
    {
     "name": "stdout",
     "output_type": "stream",
     "text": [
      "OrderedDict([('top_name', 'top'),\n",
      "             ('port_list',\n",
      "              [OrderedDict([('port_name', 'CLK'),\n",
      "                            ('direction', 'input'),\n",
      "                            ('width', ''),\n",
      "                            ('prefix', 'i_'),\n",
      "                            ('postfix', '_top')]),\n",
      "               OrderedDict([('port_name', 'RESETn'),\n",
      "                            ('direction', 'input'),\n",
      "                            ('width', ''),\n",
      "                            ('prefix', 'i_'),\n",
      "                            ('postfix', '_top')]),\n",
      "               OrderedDict([('port_name', 'DATA'),\n",
      "                            ('direction', 'input'),\n",
      "                            ('width', '[31:0]'),\n",
      "                            ('prefix', 'i_'),\n",
      "                            ('postfix', '_top')]),\n",
      "               OrderedDict([('port_name', 'DATA'),\n",
      "                            ('direction', 'output'),\n",
      "                            ('width', '[31:0]'),\n",
      "                            ('prefix', 'o_'),\n",
      "                            ('postfix', '_top')])]),\n",
      "             ('connection_list', [])])\n"
     ]
    }
   ],
   "source": [
    "pprint(top_info)"
   ]
  },
  {
   "cell_type": "markdown",
   "metadata": {},
   "source": [
    "# port_list code generator"
   ]
  },
  {
   "cell_type": "code",
   "execution_count": 8,
   "metadata": {},
   "outputs": [],
   "source": [
    "def top_module_open(f,top_info):\n",
    "    f.writelines(\"module \"+top_info['top_name']+\" (\\n\" )\n",
    "\n",
    "def top_module_close(f):\n",
    "    f.writelines(\");\\n\")\n",
    "\n",
    "def endmodule(f):\n",
    "    f.writelines(\"endmodule\")\n",
    "    \n",
    "def make_port_string(f,info_dict):\n",
    "    if(info_dict['width']==''):\n",
    "        f.writelines(\"\\t\"+info_dict['direction'] +\"\\t\\t\\t\\t\" + info_dict['prefix']+info_dict['port_name']+info_dict['postfix']+\",\\n\")\n",
    "    else:\n",
    "        f.writelines(\"\\t\"+info_dict['direction'] +\"\\t\" + info_dict['width'] + \"\\t\\t\" + info_dict['prefix']+info_dict['port_name']+info_dict['postfix']+\",\\n\")\n",
    "    "
   ]
  },
  {
   "cell_type": "code",
   "execution_count": 9,
   "metadata": {},
   "outputs": [],
   "source": [
    "with open(\"./gen_code.v\",\"w\")as f:\n",
    "    top_module_open(f,top_info)\n",
    "    for i in top_info['port_list']:\n",
    "        make_port_string(f,i)\n",
    "    top_module_close(f)\n",
    "    endmodule(f)"
   ]
  },
  {
   "cell_type": "markdown",
   "metadata": {},
   "source": [
    "---"
   ]
  },
  {
   "cell_type": "code",
   "execution_count": 10,
   "metadata": {},
   "outputs": [
    {
     "name": "stdout",
     "output_type": "stream",
     "text": [
      "module top (\r\n",
      "\tinput\t\t\t\ti_CLK_top,\r\n",
      "\tinput\t\t\t\ti_RESETn_top,\r\n",
      "\tinput\t[31:0]\t\ti_DATA_top,\r\n",
      "\toutput\t[31:0]\t\to_DATA_top,\r\n",
      ");\r\n",
      "endmodule"
     ]
    }
   ],
   "source": [
    "!cat ./gen_code.v"
   ]
  },
  {
   "cell_type": "markdown",
   "metadata": {},
   "source": [
    "---"
   ]
  },
  {
   "cell_type": "markdown",
   "metadata": {},
   "source": [
    "# connection_list 만들기"
   ]
  },
  {
   "cell_type": "code",
   "execution_count": null,
   "metadata": {},
   "outputs": [],
   "source": []
  }
 ],
 "metadata": {
  "kernelspec": {
   "display_name": "Python 3",
   "language": "python",
   "name": "python3"
  },
  "language_info": {
   "codemirror_mode": {
    "name": "ipython",
    "version": 3
   },
   "file_extension": ".py",
   "mimetype": "text/x-python",
   "name": "python",
   "nbconvert_exporter": "python",
   "pygments_lexer": "ipython3",
   "version": "3.8.2"
  }
 },
 "nbformat": 4,
 "nbformat_minor": 4
}
