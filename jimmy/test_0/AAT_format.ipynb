{
 "cells": [
  {
   "cell_type": "code",
   "execution_count": 4,
   "metadata": {},
   "outputs": [
    {
     "data": {
      "text/plain": [
       "{'modname': 'mem_ctrl',\n",
       " 'filename': 'mem_ctrl.v',\n",
       " 'ports': [{'name': 'o_cs', 'dir': 'output', 'msb': 0, 'lsb': 0},\n",
       "  {'name': 'o_wdata', 'dir': 'output', 'msb': 7, 'lsb': 0},\n",
       "  {'name': 'i_rdata', 'dir': 'input', 'msb': 7, 'lsb': 0}]}"
      ]
     },
     "execution_count": 4,
     "metadata": {},
     "output_type": "execute_result"
    }
   ],
   "source": [
    "\n",
    "{\n",
    "    \"modname\"  : \"mem_ctrl\",\n",
    "    \"filename\" : \"mem_ctrl.v\",\n",
    "    \"ports\"    : [\n",
    "        {\n",
    "            \"name\" : \"o_cs\",\n",
    "            \"dir\"  : \"output\",\n",
    "            \"msb\"  : 0,\n",
    "            \"lsb\"  : 0            \n",
    "        },\n",
    "        {\n",
    "            \"name\" : \"o_wdata\",\n",
    "            \"dir\"  : \"output\",\n",
    "            \"msb\"  : 7,\n",
    "            \"lsb\"  : 0            \n",
    "        },\n",
    "        {\n",
    "            \"name\" : \"i_rdata\",\n",
    "            \"dir\"  : \"input\",\n",
    "            \"msb\"  : 7,\n",
    "            \"lsb\"  : 0\n",
    "        }\n",
    "    ]\n",
    "}"
   ]
  },
  {
   "cell_type": "code",
   "execution_count": 21,
   "metadata": {},
   "outputs": [
    {
     "data": {
      "text/plain": [
       "{'top': {'modname': 'top',\n",
       "  'filename': 'top.v',\n",
       "  'instname': '',\n",
       "  'ports': [{'name': 'i_clk', 'dir': 'input', 'msb': 0, 'lsb': 0},\n",
       "   {'name': 'i_rstn', 'dir': 'input', 'msb': 0, 'lsb': 0}]},\n",
       " 'insts': [{'modname': 'mem_ctrl',\n",
       "   'filename': 'mem_ctrl.v',\n",
       "   'instname': 'u_mem_ctrl'}]}"
      ]
     },
     "execution_count": 21,
     "metadata": {},
     "output_type": "execute_result"
    }
   ],
   "source": [
    "{\n",
    "    \"top\" : {\n",
    "        'modname' : 'top',\n",
    "        'filename' : 'top.v',\n",
    "        'instname' : '',\n",
    "        'ports' : [\n",
    "            {\n",
    "                'name' : 'i_clk',\n",
    "                'dir'  : 'input',\n",
    "                'msb'  : 0,\n",
    "                'lsb'  : 0\n",
    "            },\n",
    "            {\n",
    "                'name' : 'i_rstn',\n",
    "                'dir'  : 'input',\n",
    "                'msb'  : 0,\n",
    "                'lsb'  : 0\n",
    "            }\n",
    "        ]\n",
    "    },\n",
    "    'insts' : [\n",
    "        {\n",
    "            'modname' : 'mem_ctrl',\n",
    "            'filename':'mem_ctrl.v',\n",
    "            'instname':'u_mem_ctrl'\n",
    "        }\n",
    "    ]\n",
    "    \n",
    "}"
   ]
  },
  {
   "cell_type": "code",
   "execution_count": 23,
   "metadata": {},
   "outputs": [
    {
     "data": {
      "text/plain": [
       "{'type': 'port',\n",
       " 'mst': {'inst': 'u_mst', 'port': 'A', 'widht': 0},\n",
       " 'slv': {'inst': 'u_slv', 'port': 'B', 'width': 0}}"
      ]
     },
     "execution_count": 23,
     "metadata": {},
     "output_type": "execute_result"
    }
   ],
   "source": [
    "{\n",
    "    'type':'port',\n",
    "    'mst':{\n",
    "        'inst' : 'u_mst',\n",
    "        'port' : 'A',\n",
    "        'widht': 0\n",
    "    },\n",
    "    'slv':{\n",
    "        'inst' : 'u_slv',\n",
    "        'port' : 'B',\n",
    "        'width': 0\n",
    "    }\n",
    "}"
   ]
  }
 ],
 "metadata": {
  "kernelspec": {
   "display_name": "Python 3",
   "language": "python",
   "name": "python3"
  },
  "language_info": {
   "codemirror_mode": {
    "name": "ipython",
    "version": 3
   },
   "file_extension": ".py",
   "mimetype": "text/x-python",
   "name": "python",
   "nbconvert_exporter": "python",
   "pygments_lexer": "ipython3",
   "version": "3.7.6"
  }
 },
 "nbformat": 4,
 "nbformat_minor": 4
}
