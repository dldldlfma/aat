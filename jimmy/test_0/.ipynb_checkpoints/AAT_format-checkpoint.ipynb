{
 "cells": [
  {
   "cell_type": "code",
   "execution_count": 4,
   "metadata": {},
   "outputs": [
    {
     "data": {
      "text/plain": [
       "{'modname': 'mem_ctrl',\n",
       " 'filename': 'mem_ctrl.v',\n",
       " 'ports': [{'name': 'o_cs', 'dir': 'output', 'msb': 0, 'lsb': 0},\n",
       "  {'name': 'o_wdata', 'dir': 'output', 'msb': 7, 'lsb': 0},\n",
       "  {'name': 'i_rdata', 'dir': 'input', 'msb': 7, 'lsb': 0}]}"
      ]
     },
     "execution_count": 4,
     "metadata": {},
     "output_type": "execute_result"
    }
   ],
   "source": [
    "\n",
    "{\n",
    "    \"modname\"  : \"mem_ctrl\",\n",
    "    \"filename\" : \"mem_ctrl.v\",\n",
    "    \"ports\"    : [\n",
    "        {\n",
    "            \"name\" : \"o_cs\",\n",
    "            \"dir\"  : \"output\",\n",
    "            \"msb\"  : 0,\n",
    "            \"lsb\"  : 0            \n",
    "        },\n",
    "        {\n",
    "            \"name\" : \"o_wdata\",\n",
    "            \"dir\"  : \"output\",\n",
    "            \"msb\"  : 7,\n",
    "            \"lsb\"  : 0            \n",
    "        },\n",
    "        {\n",
    "            \"name\" : \"i_rdata\",\n",
    "            \"dir\"  : \"input\",\n",
    "            \"msb\"  : 7,\n",
    "            \"lsb\"  : 0\n",
    "        }\n",
    "    ]\n",
    "}"
   ]
  },
  {
   "cell_type": "code",
   "execution_count": 18,
   "metadata": {},
   "outputs": [
    {
     "ename": "SyntaxError",
     "evalue": "invalid syntax (<ipython-input-18-19260e22d6d6>, line 25)",
     "output_type": "error",
     "traceback": [
      "\u001b[1;36m  File \u001b[1;32m\"<ipython-input-18-19260e22d6d6>\"\u001b[1;36m, line \u001b[1;32m25\u001b[0m\n\u001b[1;33m    }\u001b[0m\n\u001b[1;37m    ^\u001b[0m\n\u001b[1;31mSyntaxError\u001b[0m\u001b[1;31m:\u001b[0m invalid syntax\n"
     ]
    }
   ],
   "source": [
    "{\n",
    "    \"top\" : {\n",
    "        'modname' : 'top',\n",
    "        'filename' : 'top.v',\n",
    "        'instname' : '',\n",
    "        'ports' : [\n",
    "            {\n",
    "                'name' : 'i_clk',\n",
    "                'dir'  : 'input',\n",
    "                'msb'  : 0,\n",
    "                'lsb'  : 0\n",
    "            },\n",
    "            {\n",
    "                'name' : 'i_rstn',\n",
    "                'dir'  : 'input',\n",
    "                'msb'  : 0,\n",
    "                'lsb'  : 0\n",
    "            }\n",
    "        ]\n",
    "    },\n",
    "    'insts' : [\n",
    "        {\n",
    "            'modname' : 'mem_ctrl',\n",
    "            \n",
    "        }\n",
    "    ]\n",
    "    \n",
    "}"
   ]
  }
 ],
 "metadata": {
  "kernelspec": {
   "display_name": "Python 3",
   "language": "python",
   "name": "python3"
  },
  "language_info": {
   "codemirror_mode": {
    "name": "ipython",
    "version": 3
   },
   "file_extension": ".py",
   "mimetype": "text/x-python",
   "name": "python",
   "nbconvert_exporter": "python",
   "pygments_lexer": "ipython3",
   "version": "3.7.6"
  }
 },
 "nbformat": 4,
 "nbformat_minor": 4
}
