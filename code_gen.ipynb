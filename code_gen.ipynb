{
 "cells": [
  {
   "cell_type": "markdown",
   "metadata": {},
   "source": [
    "# Code Generator\n",
    "\n",
    "## json을 통해서 verilog code를 생성하는 기능을 구현하고자 합니다. "
   ]
  },
  {
   "cell_type": "markdown",
   "metadata": {},
   "source": [
    "---"
   ]
  },
  {
   "cell_type": "markdown",
   "metadata": {},
   "source": [
    "# protocol gen check"
   ]
  },
  {
   "cell_type": "code",
   "execution_count": 1,
   "metadata": {},
   "outputs": [],
   "source": [
    "import json\n",
    "from pprint import pprint"
   ]
  },
  {
   "cell_type": "code",
   "execution_count": 2,
   "metadata": {},
   "outputs": [],
   "source": [
    "my_p={}\n",
    "with open(\"./protocol/my_protocol.json\") as f:\n",
    "    my_p = json.load(f)"
   ]
  },
  {
   "cell_type": "code",
   "execution_count": 3,
   "metadata": {},
   "outputs": [
    {
     "name": "stdout",
     "output_type": "stream",
     "text": [
      "{'master': [{'direction': 'input', 'name': 'CLK', 'width': 1},\n",
      "            {'direction': 'input', 'name': 'RESETn', 'width': 1},\n",
      "            {'direction': 'output', 'name': 'VALID', 'width': 1},\n",
      "            {'direction': 'input', 'name': 'READY', 'width': 1},\n",
      "            {'direction': 'output', 'name': 'O_DATA', 'width': 32},\n",
      "            {'direction': 'input', 'name': 'I_DATA', 'width': 32}],\n",
      " 'name': 'my_protocol',\n",
      " 'slave': [{'direction': 'input', 'name': 'CLK', 'width': 1},\n",
      "           {'direction': 'input', 'name': 'RESETn', 'width': 1},\n",
      "           {'direction': 'input', 'name': 'VALID', 'width': 1},\n",
      "           {'direction': 'output', 'name': 'READY', 'width': 1},\n",
      "           {'direction': 'output', 'name': 'O_DATA', 'width': 32},\n",
      "           {'direction': 'input', 'name': 'I_DATA', 'width': 32}]}\n"
     ]
    }
   ],
   "source": [
    "pprint(my_p)"
   ]
  },
  {
   "cell_type": "code",
   "execution_count": 4,
   "metadata": {},
   "outputs": [],
   "source": [
    "with open(\"./gen_code.v\",\"w\")as f:\n",
    "    for i in my_p['slave']:\n",
    "        line_code = \"\\t.\"+i['name']+\"\\t\\t(\\t)\\n\"\n",
    "        f.writelines(line_code)   "
   ]
  },
  {
   "cell_type": "markdown",
   "metadata": {},
   "source": [
    "# 코드창에 !를 입력하고 명령어를 넣으면 bash 명령어가 실행 됩니다.\n",
    "\n",
    "### !cat ./gen_code.v 를 통해서 생성된 code를 확인해보겠습니다. "
   ]
  },
  {
   "cell_type": "code",
   "execution_count": 5,
   "metadata": {
    "scrolled": false
   },
   "outputs": [
    {
     "name": "stdout",
     "output_type": "stream",
     "text": [
      "\t.CLK\t\t(\t)\r\n",
      "\t.RESETn\t\t(\t)\r\n",
      "\t.VALID\t\t(\t)\r\n",
      "\t.READY\t\t(\t)\r\n",
      "\t.O_DATA\t\t(\t)\r\n",
      "\t.I_DATA\t\t(\t)\r\n"
     ]
    }
   ],
   "source": [
    "!cat ./gen_code.v"
   ]
  },
  {
   "cell_type": "markdown",
   "metadata": {},
   "source": [
    "## json load\n",
    "\n",
    "json을 부를때는 json자체에 적힌 순서대로 읽어 오기위해서 \n",
    "\n",
    "아래와 같이 **object_pairs_hook=OrderedDict** 옵션을 주어야 합니다.\n",
    "\n",
    "\n",
    "\n",
    "```python\n",
    "json.load(f,object_pairs_hook=OrderedDict)\n",
    "```\n",
    "\n"
   ]
  },
  {
   "cell_type": "code",
   "execution_count": 6,
   "metadata": {},
   "outputs": [],
   "source": [
    "from collections import OrderedDict\n",
    "top_info = {}\n",
    "with open(\"./info/top.json\") as f:\n",
    "    #top_info = json.load(f)\n",
    "    top_info = json.load(f,object_pairs_hook=OrderedDict)"
   ]
  },
  {
   "cell_type": "code",
   "execution_count": 7,
   "metadata": {
    "scrolled": false
   },
   "outputs": [
    {
     "name": "stdout",
     "output_type": "stream",
     "text": [
      "OrderedDict([('top_name', 'top'),\n",
      "             ('port_list',\n",
      "              [OrderedDict([('port_name', 'CLK'),\n",
      "                            ('direction', 'input'),\n",
      "                            ('width', ''),\n",
      "                            ('prefix', 'i_'),\n",
      "                            ('postfix', '_top')]),\n",
      "               OrderedDict([('port_name', 'RESETn'),\n",
      "                            ('direction', 'input'),\n",
      "                            ('width', ''),\n",
      "                            ('prefix', 'i_'),\n",
      "                            ('postfix', '_top')]),\n",
      "               OrderedDict([('port_name', 'i_DATA'),\n",
      "                            ('direction', 'input'),\n",
      "                            ('width', '[31:0]'),\n",
      "                            ('prefix', 'i_'),\n",
      "                            ('postfix', '_top')]),\n",
      "               OrderedDict([('port_name', 'o_DATA'),\n",
      "                            ('direction', 'output'),\n",
      "                            ('width', '[31:0]'),\n",
      "                            ('prefix', 'o_'),\n",
      "                            ('postfix', '_top')])]),\n",
      "             ('wire_list',\n",
      "              [OrderedDict([('name', 'u_master_A'), ('width', 0)]),\n",
      "               OrderedDict([('name', 'u_master_B'), ('width', '[31:0]')])]),\n",
      "             ('instance_list',\n",
      "              [OrderedDict([('name', 'u_master'), ('type', 'master')])]),\n",
      "             ('module_dict',\n",
      "              [OrderedDict([('name', 'master'),\n",
      "                            ('port_list',\n",
      "                             [OrderedDict([('name', 'clk')]),\n",
      "                              OrderedDict([('name', 'rstn')])])]),\n",
      "               OrderedDict([('name', 'slave'),\n",
      "                            ('port_list',\n",
      "                             [OrderedDict([('name', 'clk')]),\n",
      "                              OrderedDict([('name', 'rstn')])])])]),\n",
      "             ('connection_list',\n",
      "              [OrderedDict([('type', 'port'),\n",
      "                            ('mst',\n",
      "                             OrderedDict([('inst_type', 'master'),\n",
      "                                          ('inst_name', 'u_master'),\n",
      "                                          ('port', 'A'),\n",
      "                                          ('width', 0)])),\n",
      "                            ('slv',\n",
      "                             OrderedDict([('inst_type', 'slave'),\n",
      "                                          ('inst_name', 'u_slave'),\n",
      "                                          ('port', 'B0'),\n",
      "                                          ('width', 0)]))]),\n",
      "               OrderedDict([('type', 'port'),\n",
      "                            ('mst',\n",
      "                             OrderedDict([('inst_type', 'master'),\n",
      "                                          ('inst_name', 'u_master'),\n",
      "                                          ('port', 'B'),\n",
      "                                          ('width', 0)])),\n",
      "                            ('slv',\n",
      "                             OrderedDict([('inst_type', 'slave'),\n",
      "                                          ('inst_name', 'u_slave'),\n",
      "                                          ('port', 'C0'),\n",
      "                                          ('width', 0)]))]),\n",
      "               OrderedDict([('type', 'same_port_full_connection'),\n",
      "                            ('mst',\n",
      "                             OrderedDict([('inst_type', 'master'),\n",
      "                                          ('port', 'A')])),\n",
      "                            ('slv',\n",
      "                             OrderedDict([('inst_type', 'slave'),\n",
      "                                          ('port', 'A'),\n",
      "                                          ('width', 0)]))]),\n",
      "               OrderedDict([('type', 'protocol'),\n",
      "                            ('inst_name', ['u0_m', 'u1_s'])])])])\n"
     ]
    }
   ],
   "source": [
    "pprint(top_info)"
   ]
  },
  {
   "cell_type": "markdown",
   "metadata": {},
   "source": [
    "# port_list code generator"
   ]
  },
  {
   "cell_type": "code",
   "execution_count": 8,
   "metadata": {},
   "outputs": [],
   "source": [
    "def top_module_open(f,top_info):\n",
    "    f.writelines(\"module \"+top_info['top_name']+\" (\\n\" )\n",
    "\n",
    "def top_module_close(f):\n",
    "    f.writelines(\");\\n\")\n",
    "\n",
    "def endmodule(f):\n",
    "    f.writelines(\"endmodule\")\n",
    "    \n",
    "def make_port_string(f,info_dict):\n",
    "    if(info_dict['width']==''):\n",
    "        f.writelines(\"\\t\"+info_dict['direction'] +\"\\t\\t\\t\\t\" + info_dict['prefix']+info_dict['port_name']+info_dict['postfix']+\",\\n\")\n",
    "    else:\n",
    "        f.writelines(\"\\t\"+info_dict['direction'] +\"\\t\" + info_dict['width'] + \"\\t\\t\" + info_dict['prefix']+info_dict['port_name']+info_dict['postfix']+\",\\n\")\n",
    "    "
   ]
  },
  {
   "cell_type": "code",
   "execution_count": 9,
   "metadata": {},
   "outputs": [],
   "source": [
    "with open(\"./gen_code.v\",\"w\")as f:\n",
    "    top_module_open(f,top_info)\n",
    "    for i in top_info['port_list']:\n",
    "        make_port_string(f,i)\n",
    "    top_module_close(f)\n",
    "    endmodule(f)"
   ]
  },
  {
   "cell_type": "markdown",
   "metadata": {},
   "source": [
    "---"
   ]
  },
  {
   "cell_type": "code",
   "execution_count": 10,
   "metadata": {},
   "outputs": [
    {
     "name": "stdout",
     "output_type": "stream",
     "text": [
      "module top (\r\n",
      "\tinput\t\t\t\ti_CLK_top,\r\n",
      "\tinput\t\t\t\ti_RESETn_top,\r\n",
      "\tinput\t[31:0]\t\ti_i_DATA_top,\r\n",
      "\toutput\t[31:0]\t\to_o_DATA_top,\r\n",
      ");\r\n",
      "endmodule"
     ]
    }
   ],
   "source": [
    "!cat ./gen_code.v"
   ]
  },
  {
   "cell_type": "markdown",
   "metadata": {},
   "source": [
    "---"
   ]
  },
  {
   "cell_type": "markdown",
   "metadata": {},
   "source": [
    "# connection_list 만들기"
   ]
  },
  {
   "cell_type": "code",
   "execution_count": 11,
   "metadata": {},
   "outputs": [],
   "source": [
    "top_port_list=[]\n",
    "name_list = []\n",
    "\n",
    "for i in top_info['port_list']:\n",
    "    top_port_list.append(i['prefix']+i['port_name']+i['postfix'])"
   ]
  },
  {
   "cell_type": "code",
   "execution_count": 12,
   "metadata": {},
   "outputs": [
    {
     "data": {
      "text/plain": [
       "[OrderedDict([('type', 'port'),\n",
       "              ('mst',\n",
       "               OrderedDict([('inst_type', 'master'),\n",
       "                            ('inst_name', 'u_master'),\n",
       "                            ('port', 'A'),\n",
       "                            ('width', 0)])),\n",
       "              ('slv',\n",
       "               OrderedDict([('inst_type', 'slave'),\n",
       "                            ('inst_name', 'u_slave'),\n",
       "                            ('port', 'B0'),\n",
       "                            ('width', 0)]))]),\n",
       " OrderedDict([('type', 'port'),\n",
       "              ('mst',\n",
       "               OrderedDict([('inst_type', 'master'),\n",
       "                            ('inst_name', 'u_master'),\n",
       "                            ('port', 'B'),\n",
       "                            ('width', 0)])),\n",
       "              ('slv',\n",
       "               OrderedDict([('inst_type', 'slave'),\n",
       "                            ('inst_name', 'u_slave'),\n",
       "                            ('port', 'C0'),\n",
       "                            ('width', 0)]))]),\n",
       " OrderedDict([('type', 'same_port_full_connection'),\n",
       "              ('mst', OrderedDict([('inst_type', 'master'), ('port', 'A')])),\n",
       "              ('slv',\n",
       "               OrderedDict([('inst_type', 'slave'),\n",
       "                            ('port', 'A'),\n",
       "                            ('width', 0)]))]),\n",
       " OrderedDict([('type', 'protocol'), ('inst_name', ['u0_m', 'u1_s'])])]"
      ]
     },
     "execution_count": 12,
     "metadata": {},
     "output_type": "execute_result"
    }
   ],
   "source": [
    "top_info['connection_list']"
   ]
  },
  {
   "cell_type": "markdown",
   "metadata": {},
   "source": [
    "## 아래 반복문은 code 추가를 위해 append mode \"a\"로 열였지만 \n",
    "\n",
    "## 추후에는 \"w\"로 한번 열고 파일을 닫을때 쓰기는 끝"
   ]
  },
  {
   "cell_type": "code",
   "execution_count": 13,
   "metadata": {},
   "outputs": [],
   "source": [
    "with open(\"./gen_code.v\",\"a\")as f:\n",
    "    for i in top_info['connection_list']:\n",
    "        if(i['type']=='port'):\n",
    "            f.writelines(\"Hello\")"
   ]
  },
  {
   "cell_type": "markdown",
   "metadata": {},
   "source": [
    "**connection_code_gen**\n",
    "    - wire_write\n",
    "        - name_chk\n",
    "    - module_write\n",
    "        - module_list_chk\n",
    "    \n"
   ]
  },
  {
   "cell_type": "code",
   "execution_count": 14,
   "metadata": {},
   "outputs": [],
   "source": [
    "my_str = \"   .clk   ( )\"\n",
    "my_str = list(my_str)"
   ]
  },
  {
   "cell_type": "code",
   "execution_count": 15,
   "metadata": {},
   "outputs": [],
   "source": [
    "my_str.insert(my_str.index(\"(\")+1,\"Hello\")"
   ]
  },
  {
   "cell_type": "code",
   "execution_count": 16,
   "metadata": {},
   "outputs": [],
   "source": [
    "out_str=\"\"\n",
    "for i in my_str:\n",
    "    out_str = out_str + i"
   ]
  },
  {
   "cell_type": "code",
   "execution_count": 17,
   "metadata": {},
   "outputs": [
    {
     "data": {
      "text/plain": [
       "'   .clk   (Hello )'"
      ]
     },
     "execution_count": 17,
     "metadata": {},
     "output_type": "execute_result"
    }
   ],
   "source": [
    "out_str"
   ]
  },
  {
   "cell_type": "markdown",
   "metadata": {},
   "source": [
    "## port 값 입력하는 함수\n",
    "\n",
    "insert_port 라는 함수를 정의 했습니다. \n",
    "\n",
    "port_string은 괄호 값이 비어있는 string값이며\n",
    "\n",
    "input_port_name은 입력할 port의 이름입니다.\n",
    "\n",
    "\n",
    "```python\n",
    "a=\"   .clk  ()\"\n",
    "b=\"top_clk\"\n",
    "\n",
    "insert_port(a,b)\n",
    "\n",
    "[Out] \"   .clk   (top_clk)\"\n",
    "\n",
    "```\n"
   ]
  },
  {
   "cell_type": "code",
   "execution_count": 18,
   "metadata": {},
   "outputs": [],
   "source": [
    "def insert_port(port_string, input_port_name):\n",
    "    port_string = list(port_string)\n",
    "    port_string.insert(port_string.index(\"(\")+1,input_port_name)\n",
    "    out_str=\"\"\n",
    "    for i in port_string:\n",
    "        out_str = out_str +i\n",
    "    return out_str\n",
    "    "
   ]
  },
  {
   "cell_type": "code",
   "execution_count": 19,
   "metadata": {
    "scrolled": true
   },
   "outputs": [
    {
     "data": {
      "text/plain": [
       "'. clk (my_clk)'"
      ]
     },
     "execution_count": 19,
     "metadata": {},
     "output_type": "execute_result"
    }
   ],
   "source": [
    "insert_port(\". clk ()\", \"my_clk\")"
   ]
  },
  {
   "cell_type": "code",
   "execution_count": 20,
   "metadata": {
    "scrolled": true
   },
   "outputs": [
    {
     "data": {
      "text/plain": [
       "[OrderedDict([('type', 'port'),\n",
       "              ('mst',\n",
       "               OrderedDict([('inst_type', 'master'),\n",
       "                            ('inst_name', 'u_master'),\n",
       "                            ('port', 'A'),\n",
       "                            ('width', 0)])),\n",
       "              ('slv',\n",
       "               OrderedDict([('inst_type', 'slave'),\n",
       "                            ('inst_name', 'u_slave'),\n",
       "                            ('port', 'B0'),\n",
       "                            ('width', 0)]))]),\n",
       " OrderedDict([('type', 'port'),\n",
       "              ('mst',\n",
       "               OrderedDict([('inst_type', 'master'),\n",
       "                            ('inst_name', 'u_master'),\n",
       "                            ('port', 'B'),\n",
       "                            ('width', 0)])),\n",
       "              ('slv',\n",
       "               OrderedDict([('inst_type', 'slave'),\n",
       "                            ('inst_name', 'u_slave'),\n",
       "                            ('port', 'C0'),\n",
       "                            ('width', 0)]))]),\n",
       " OrderedDict([('type', 'same_port_full_connection'),\n",
       "              ('mst', OrderedDict([('inst_type', 'master'), ('port', 'A')])),\n",
       "              ('slv',\n",
       "               OrderedDict([('inst_type', 'slave'),\n",
       "                            ('port', 'A'),\n",
       "                            ('width', 0)]))]),\n",
       " OrderedDict([('type', 'protocol'), ('inst_name', ['u0_m', 'u1_s'])])]"
      ]
     },
     "execution_count": 20,
     "metadata": {},
     "output_type": "execute_result"
    }
   ],
   "source": [
    "top_info['connection_list']"
   ]
  },
  {
   "cell_type": "markdown",
   "metadata": {},
   "source": [
    "## module class 정의\n",
    "\n",
    "code를 생성하기 전에 각 module을 class화 시켜서 가지고 있다가 적절한 형태로 변환하여 생성하는 것이 좋을 것 같다.  \n",
    "해당 작업을 수행하기 위해서 별도의 class를 정의 했다."
   ]
  },
  {
   "cell_type": "code",
   "execution_count": 145,
   "metadata": {},
   "outputs": [],
   "source": [
    "class module():\n",
    "    def __init__(self,module_name=\"\",instance_name=\"\",port_list=[]):\n",
    "        self.module_name=module_name\n",
    "        self.instance_name=instance_name\n",
    "        self.port_list =port_list\n",
    "    \n",
    "    def set_module_name(module_name):\n",
    "        self.module_name = module_name\n",
    "        \n",
    "    def set_instance_name(instance_name):\n",
    "        self.instance_name = instance_name\n",
    "    \n",
    "    def set_port_list(port_list):\n",
    "        self.port_list=port_list\n",
    "        \n",
    "    def print_module_code(self):\n",
    "        return_str = self.module_name + \" \" + self.module_instance_name\n",
    "        for i in self.port_list:\n",
    "            return_str = port_string(return_str, i)\n",
    "        return return_str\n",
    "    \n",
    "    def port_string(return_str, port_info):\n",
    "        \n",
    "        return  return_str\n",
    "    \n",
    "    def show_info(self):\n",
    "        print(\"type : \"+self.module_name)\n",
    "        print(\"name : \"+self.instance_name)\n",
    "        for i in self.port_list:\n",
    "            print(i)\n",
    "        print(\"\\n\")\n",
    "\n",
    "    def __str__(self):\n",
    "        return \"module : \" + self.module_name + \"\\n\" + \"instance_name : \" + self.instance_name\n",
    "\n",
    "    def __repr(self):\n",
    "        return \"<module_class>\""
   ]
  },
  {
   "cell_type": "markdown",
   "metadata": {},
   "source": [
    "# 생각하는 top module의 코드 사용방법\n",
    "\n",
    "\n",
    "module top_name ( <= 이거 생성하나\n",
    "\n",
    "top_port_list <= 이거 생성 하나 ( \");\" <= 이거 쓰는건 top_port_list에 포함 )\n",
    "\n",
    "top_wire_list <= 이거 생성 하나 \n",
    "\n",
    "top_instance_list <= 이거 생성 하나 \n",
    "\n",
    "top_endmodule <= 이거 생성 하나 (\"\\n\\n endmodule\")\n",
    "\n",
    "\n",
    "\n",
    "\n"
   ]
  },
  {
   "cell_type": "code",
   "execution_count": 183,
   "metadata": {},
   "outputs": [],
   "source": [
    "class top():\n",
    "    def __init__(self):\n",
    "        self.name=\"\"\n",
    "        self.port = []\n",
    "        self.wire = []\n",
    "        self.module_dict={}\n",
    "        self.connection = []\n",
    "        self.instance_list=[]\n",
    "        \n",
    "    def set_port_list(self,port_list):\n",
    "        self.port = port_list\n",
    "    \n",
    "    def set_wire_list(self,wire_list):\n",
    "        self.wire = wire_list\n",
    "        \n",
    "    def set_module_dict(self, module_info):\n",
    "        self.module_dict=module_info\n",
    "        \n",
    "    def set_connection_list(self, connection_list):\n",
    "        self.connection = connection_list\n",
    "    \n",
    "    def set_instance_list(self,top_info):\n",
    "        for i in top_info['instance_list']:\n",
    "            for j in top_info['module_dict']:\n",
    "                if(i['type'] == j['name']):\n",
    "                    self.instance_list.append(module(instance_name=i['name'], module_name=i['type'],port_list=j['port_list']))\n",
    "        #--------Make connect key-value ------------------------\n",
    "        for i in self.instance_list:\n",
    "            for j in i.port_list:\n",
    "                if(j['direction'] == \"input\"):\n",
    "                    j.update({'connect':\"\"})\n",
    "                    \n",
    "                elif(j['direction'] == \"output\"):                    \n",
    "                    j.update({'connect': i.instance_name+\"_\"+j['name'] })\n",
    "                print(j)\n",
    "                    \n",
    "    \n",
    "    def code_gen(self):\n",
    "        code=\"\"\n",
    "        code = code + self.top_module_start()\n",
    "        code = code + self.top_module_port_write()\n",
    "        code = code + self.top_module_wire_write()\n",
    "        code = code + self.top_module_instance_write()\n",
    "        code = code + self.top_endmodule()\n",
    "        #f.writelines(code)\n",
    "        print(code)\n",
    "        return 0\n",
    "    \n",
    "    def top_module_start(self):\n",
    "        return \"module \" + self.name + \"(\\n\"    \n",
    "    \n",
    "    def top_module_port_write(self):\n",
    "        port_str =\"\"\n",
    "        for i in self.port:\n",
    "            if(i['width']==''):\n",
    "                port_str = port_str + \"\\t\" +i['direction'] +\"\\t\\t\\t\" +i['port_name']+\",\\n\"\n",
    "            else:\n",
    "                port_str = port_str + \"\\t\"+i['direction'] +\"\\t\" + i['width'] + \"\\t\\t\" +i['port_name']+\",\\n\"\n",
    "        port_str = port_str +\");\\n\\n\\n\"\n",
    "        return port_str\n",
    "\n",
    "    def top_module_wire_write(self):\n",
    "        wire_str=\"\"\n",
    "        for i in self.wire:\n",
    "            if(i['width']==0):\n",
    "                wire_str = wire_str + \"wire \"+ \"\\t\\t\" +i['name'] +\";\\n\"\n",
    "            else:\n",
    "                wire_str = wire_str + \"wire \"+ i['width'] + \"\\t\" +i['name']+\";\\n\"\n",
    "        return wire_str\n",
    "    \n",
    "        \n",
    "    def top_module_instance_write(self):\n",
    "        inst_str=\"\\n\\n\"\n",
    "        for i in self.instance_list:\n",
    "            inst_str= inst_str+i.module_name + \" \" +i.instance_name + \" ( \\n\"\n",
    "            for j in i.port_list:\n",
    "                inst_str = inst_str + \"\\t.\" + j['name'] +\"\\t\\t(\" + j['connect'] + \"),\\n\"\n",
    "            \n",
    "            inst_str=inst_str+\"\\n\"\n",
    "            \n",
    "        return inst_str\n",
    "    \n",
    "    def top_endmodule(self):\n",
    "        return \"\\nendmodule\""
   ]
  },
  {
   "cell_type": "markdown",
   "metadata": {},
   "source": [
    "# 어떻게 만들면 될까?\n",
    "\n",
    "\n",
    "top class에 정보를 담고\n",
    "\n",
    "```python\n",
    "\n",
    "my_top = top()\n",
    "# 별도의 set-up 과정을 거친다.\n",
    "\n",
    "with open(\"top.v\",\"w\") as f:\n",
    "    my_top.code_gen(f)\n",
    "```"
   ]
  },
  {
   "cell_type": "code",
   "execution_count": 189,
   "metadata": {},
   "outputs": [
    {
     "name": "stdout",
     "output_type": "stream",
     "text": [
      "OrderedDict([('name', 'CLK'), ('direction', 'input'), ('width', 1), ('connect', '')])\n",
      "OrderedDict([('name', 'RESETn'), ('direction', 'input'), ('width', 1), ('connect', '')])\n",
      "OrderedDict([('name', 'VALID'), ('direction', 'output'), ('width', 1), ('connect', 'u_master_VALID')])\n",
      "OrderedDict([('name', 'READY'), ('direction', 'input'), ('width', 1), ('connect', '')])\n",
      "OrderedDict([('name', 'O_DATA'), ('direction', 'output'), ('width', 32), ('connect', 'u_master_O_DATA')])\n",
      "OrderedDict([('name', 'I_DATA'), ('direction', 'input'), ('width', 32), ('connect', '')])\n",
      "OrderedDict([('name', 'CLK'), ('direction', 'input'), ('width', 1), ('connect', '')])\n",
      "OrderedDict([('name', 'RESETn'), ('direction', 'input'), ('width', 1), ('connect', '')])\n",
      "OrderedDict([('name', 'VALID'), ('direction', 'input'), ('width', 1), ('connect', '')])\n",
      "OrderedDict([('name', 'READY'), ('direction', 'output'), ('width', 1), ('connect', 'u_slave_READY')])\n",
      "OrderedDict([('name', 'O_DATA'), ('direction', 'output'), ('width', 32), ('connect', 'u_slave_O_DATA')])\n",
      "OrderedDict([('name', 'I_DATA'), ('direction', 'input'), ('width', 32), ('connect', '')])\n",
      "OrderedDict([('name', 'CLK'), ('direction', 'input'), ('width', 1), ('connect', '')])\n",
      "OrderedDict([('name', 'RESETn'), ('direction', 'input'), ('width', 1), ('connect', '')])\n",
      "OrderedDict([('name', 'VALID'), ('direction', 'input'), ('width', 1), ('connect', '')])\n",
      "OrderedDict([('name', 'READY'), ('direction', 'output'), ('width', 1), ('connect', 'u_slave2_READY')])\n",
      "OrderedDict([('name', 'O_DATA'), ('direction', 'output'), ('width', 32), ('connect', 'u_slave2_O_DATA')])\n",
      "OrderedDict([('name', 'I_DATA'), ('direction', 'input'), ('width', 32), ('connect', '')])\n"
     ]
    }
   ],
   "source": [
    "my_top=top()\n",
    "my_top.name = \"top\"\n",
    "\n",
    "my_top.set_port_list(top_info['port_list'])\n",
    "my_top.set_wire_list(top_info['wire_list'])\n",
    "my_top.set_module_dict(top_info['module_dict'])\n",
    "my_top.set_instance_list(top_info)\n",
    "my_top.set_connection_list(top_info['connection_list'])"
   ]
  },
  {
   "cell_type": "code",
   "execution_count": null,
   "metadata": {},
   "outputs": [],
   "source": []
  },
  {
   "cell_type": "code",
   "execution_count": 190,
   "metadata": {},
   "outputs": [
    {
     "data": {
      "text/plain": [
       "[OrderedDict([('name', 'u_master_A'), ('width', 0)]),\n",
       " OrderedDict([('name', 'u_master_B'), ('width', '[31:0]')])]"
      ]
     },
     "execution_count": 190,
     "metadata": {},
     "output_type": "execute_result"
    }
   ],
   "source": [
    "my_top.wire"
   ]
  },
  {
   "cell_type": "code",
   "execution_count": 191,
   "metadata": {},
   "outputs": [
    {
     "data": {
      "text/plain": [
       "[OrderedDict([('name', 'master'),\n",
       "              ('port_list',\n",
       "               [OrderedDict([('name', 'CLK'),\n",
       "                             ('direction', 'input'),\n",
       "                             ('width', 1),\n",
       "                             ('connect', '')]),\n",
       "                OrderedDict([('name', 'RESETn'),\n",
       "                             ('direction', 'input'),\n",
       "                             ('width', 1),\n",
       "                             ('connect', '')]),\n",
       "                OrderedDict([('name', 'VALID'),\n",
       "                             ('direction', 'output'),\n",
       "                             ('width', 1),\n",
       "                             ('connect', 'u_master_VALID')]),\n",
       "                OrderedDict([('name', 'READY'),\n",
       "                             ('direction', 'input'),\n",
       "                             ('width', 1),\n",
       "                             ('connect', '')]),\n",
       "                OrderedDict([('name', 'O_DATA'),\n",
       "                             ('direction', 'output'),\n",
       "                             ('width', 32),\n",
       "                             ('connect', 'u_master_O_DATA')]),\n",
       "                OrderedDict([('name', 'I_DATA'),\n",
       "                             ('direction', 'input'),\n",
       "                             ('width', 32),\n",
       "                             ('connect', '')])])]),\n",
       " OrderedDict([('name', 'slave'),\n",
       "              ('port_list',\n",
       "               [OrderedDict([('name', 'CLK'),\n",
       "                             ('direction', 'input'),\n",
       "                             ('width', 1),\n",
       "                             ('connect', '')]),\n",
       "                OrderedDict([('name', 'RESETn'),\n",
       "                             ('direction', 'input'),\n",
       "                             ('width', 1),\n",
       "                             ('connect', '')]),\n",
       "                OrderedDict([('name', 'VALID'),\n",
       "                             ('direction', 'input'),\n",
       "                             ('width', 1),\n",
       "                             ('connect', '')]),\n",
       "                OrderedDict([('name', 'READY'),\n",
       "                             ('direction', 'output'),\n",
       "                             ('width', 1),\n",
       "                             ('connect', 'u_slave2_READY')]),\n",
       "                OrderedDict([('name', 'O_DATA'),\n",
       "                             ('direction', 'output'),\n",
       "                             ('width', 32),\n",
       "                             ('connect', 'u_slave2_O_DATA')]),\n",
       "                OrderedDict([('name', 'I_DATA'),\n",
       "                             ('direction', 'input'),\n",
       "                             ('width', 32),\n",
       "                             ('connect', '')])])])]"
      ]
     },
     "execution_count": 191,
     "metadata": {},
     "output_type": "execute_result"
    }
   ],
   "source": [
    "my_top.module_dict"
   ]
  },
  {
   "cell_type": "code",
   "execution_count": 192,
   "metadata": {
    "scrolled": false
   },
   "outputs": [
    {
     "name": "stdout",
     "output_type": "stream",
     "text": [
      "module top(\n",
      "\tinput\t\t\tCLK,\n",
      "\tinput\t\t\tRESETn,\n",
      "\tinput\t[31:0]\t\ti_DATA,\n",
      "\toutput\t[31:0]\t\to_DATA,\n",
      ");\n",
      "\n",
      "\n",
      "wire \t\tu_master_A;\n",
      "wire [31:0]\tu_master_B;\n",
      "\n",
      "\n",
      "master u_master ( \n",
      "\t.CLK\t\t(),\n",
      "\t.RESETn\t\t(),\n",
      "\t.VALID\t\t(u_master_VALID),\n",
      "\t.READY\t\t(),\n",
      "\t.O_DATA\t\t(u_master_O_DATA),\n",
      "\t.I_DATA\t\t(),\n",
      "\n",
      "slave u_slave ( \n",
      "\t.CLK\t\t(),\n",
      "\t.RESETn\t\t(),\n",
      "\t.VALID\t\t(),\n",
      "\t.READY\t\t(u_slave2_READY),\n",
      "\t.O_DATA\t\t(u_slave2_O_DATA),\n",
      "\t.I_DATA\t\t(),\n",
      "\n",
      "slave u_slave2 ( \n",
      "\t.CLK\t\t(),\n",
      "\t.RESETn\t\t(),\n",
      "\t.VALID\t\t(),\n",
      "\t.READY\t\t(u_slave2_READY),\n",
      "\t.O_DATA\t\t(u_slave2_O_DATA),\n",
      "\t.I_DATA\t\t(),\n",
      "\n",
      "\n",
      "endmodule\n"
     ]
    },
    {
     "data": {
      "text/plain": [
       "0"
      ]
     },
     "execution_count": 192,
     "metadata": {},
     "output_type": "execute_result"
    }
   ],
   "source": [
    "my_top.code_gen()"
   ]
  },
  {
   "cell_type": "markdown",
   "metadata": {},
   "source": [
    "---"
   ]
  },
  {
   "cell_type": "markdown",
   "metadata": {},
   "source": [
    "# instance code 만들기\n",
    "\n",
    "### 상황에 따라 info.json을 수정하는 경우에 바로바로 실행해주기 위해서\n",
    "\n",
    "### info.json을 다시 불러오는 코드를 추가해둠"
   ]
  },
  {
   "cell_type": "code",
   "execution_count": 188,
   "metadata": {},
   "outputs": [],
   "source": [
    "from collections import OrderedDict\n",
    "top_info = {}\n",
    "with open(\"./info/top.json\") as f:\n",
    "    #top_info = json.load(f)\n",
    "    top_info = json.load(f,object_pairs_hook=OrderedDict)"
   ]
  },
  {
   "cell_type": "code",
   "execution_count": 126,
   "metadata": {},
   "outputs": [
    {
     "data": {
      "text/plain": [
       "[OrderedDict([('name', 'u_master'), ('type', 'master')]),\n",
       " OrderedDict([('name', 'u_slave'), ('type', 'slave')])]"
      ]
     },
     "execution_count": 126,
     "metadata": {},
     "output_type": "execute_result"
    }
   ],
   "source": [
    "top_info['instance_list']"
   ]
  },
  {
   "cell_type": "code",
   "execution_count": 127,
   "metadata": {},
   "outputs": [
    {
     "data": {
      "text/plain": [
       "[OrderedDict([('name', 'master'),\n",
       "              ('port_list',\n",
       "               [OrderedDict([('name', 'clk'), ('connect', '')]),\n",
       "                OrderedDict([('name', 'rstn'), ('connect', '')])])]),\n",
       " OrderedDict([('name', 'slave'),\n",
       "              ('port_list',\n",
       "               [OrderedDict([('name', 'clk'), ('connect', '')]),\n",
       "                OrderedDict([('name', 'rstn'), ('connect', '')])])])]"
      ]
     },
     "execution_count": 127,
     "metadata": {},
     "output_type": "execute_result"
    }
   ],
   "source": [
    "top_info['module_dict']"
   ]
  },
  {
   "cell_type": "code",
   "execution_count": 128,
   "metadata": {},
   "outputs": [
    {
     "name": "stdout",
     "output_type": "stream",
     "text": [
      "master\n",
      "master\n",
      "slave\n",
      "slave\n"
     ]
    }
   ],
   "source": [
    "instance_list = []\n",
    "for i in top_info['instance_list']:\n",
    "    for j in top_info['module_dict']:\n",
    "        if(i['type'] == j['name']):\n",
    "            print(i['type'])\n",
    "            print(j['name'])\n",
    "            instance_list.append(module(instance_name=i['name'], module_name=i['type'],port_list=j['port_list']))\n",
    "        \n",
    "    "
   ]
  },
  {
   "cell_type": "code",
   "execution_count": 129,
   "metadata": {},
   "outputs": [
    {
     "data": {
      "text/plain": [
       "[<__main__.module at 0x7f8d485d27c0>, <__main__.module at 0x7f8d485d2610>]"
      ]
     },
     "execution_count": 129,
     "metadata": {},
     "output_type": "execute_result"
    }
   ],
   "source": [
    "instance_list"
   ]
  },
  {
   "cell_type": "code",
   "execution_count": 130,
   "metadata": {},
   "outputs": [
    {
     "name": "stdout",
     "output_type": "stream",
     "text": [
      "type : master\n",
      "name : u_master\n",
      "OrderedDict([('name', 'clk'), ('connect', '')])\n",
      "OrderedDict([('name', 'rstn'), ('connect', '')])\n",
      "\n",
      "\n"
     ]
    }
   ],
   "source": [
    "instance_list[0].show_info()"
   ]
  },
  {
   "cell_type": "code",
   "execution_count": 131,
   "metadata": {},
   "outputs": [
    {
     "name": "stdout",
     "output_type": "stream",
     "text": [
      "type : master\n",
      "name : u_master\n",
      "OrderedDict([('name', 'clk'), ('connect', '')])\n",
      "OrderedDict([('name', 'rstn'), ('connect', '')])\n",
      "\n",
      "\n",
      "type : slave\n",
      "name : u_slave\n",
      "OrderedDict([('name', 'clk'), ('connect', '')])\n",
      "OrderedDict([('name', 'rstn'), ('connect', '')])\n",
      "\n",
      "\n"
     ]
    }
   ],
   "source": [
    "for i in instance_list:\n",
    "    i.show_info()"
   ]
  },
  {
   "cell_type": "code",
   "execution_count": 159,
   "metadata": {},
   "outputs": [
    {
     "data": {
      "text/plain": [
       "['__class__',\n",
       " '__contains__',\n",
       " '__delattr__',\n",
       " '__delitem__',\n",
       " '__dict__',\n",
       " '__dir__',\n",
       " '__doc__',\n",
       " '__eq__',\n",
       " '__format__',\n",
       " '__ge__',\n",
       " '__getattribute__',\n",
       " '__getitem__',\n",
       " '__gt__',\n",
       " '__hash__',\n",
       " '__init__',\n",
       " '__init_subclass__',\n",
       " '__iter__',\n",
       " '__le__',\n",
       " '__len__',\n",
       " '__lt__',\n",
       " '__ne__',\n",
       " '__new__',\n",
       " '__reduce__',\n",
       " '__reduce_ex__',\n",
       " '__repr__',\n",
       " '__reversed__',\n",
       " '__setattr__',\n",
       " '__setitem__',\n",
       " '__sizeof__',\n",
       " '__str__',\n",
       " '__subclasshook__',\n",
       " 'clear',\n",
       " 'copy',\n",
       " 'fromkeys',\n",
       " 'get',\n",
       " 'items',\n",
       " 'keys',\n",
       " 'move_to_end',\n",
       " 'pop',\n",
       " 'popitem',\n",
       " 'setdefault',\n",
       " 'update',\n",
       " 'values']"
      ]
     },
     "execution_count": 159,
     "metadata": {},
     "output_type": "execute_result"
    }
   ],
   "source": [
    "dir(OrderedDict)"
   ]
  },
  {
   "cell_type": "code",
   "execution_count": null,
   "metadata": {},
   "outputs": [],
   "source": []
  },
  {
   "cell_type": "code",
   "execution_count": null,
   "metadata": {},
   "outputs": [],
   "source": []
  },
  {
   "cell_type": "code",
   "execution_count": null,
   "metadata": {},
   "outputs": [],
   "source": []
  }
 ],
 "metadata": {
  "kernelspec": {
   "display_name": "Python 3",
   "language": "python",
   "name": "python3"
  },
  "language_info": {
   "codemirror_mode": {
    "name": "ipython",
    "version": 3
   },
   "file_extension": ".py",
   "mimetype": "text/x-python",
   "name": "python",
   "nbconvert_exporter": "python",
   "pygments_lexer": "ipython3",
   "version": "3.8.2"
  }
 },
 "nbformat": 4,
 "nbformat_minor": 4
}
